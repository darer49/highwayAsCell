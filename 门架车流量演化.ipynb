{
 "cells": [
  {
   "cell_type": "markdown",
   "source": [
    "# 神经网络结构，输入为3，输出为3"
   ],
   "metadata": {
    "collapsed": false
   }
  },
  {
   "cell_type": "code",
   "execution_count": null,
   "outputs": [],
   "source": [
    "import os\n",
    "\n",
    "import torch\n",
    "import torch.nn as nn\n",
    "\n",
    "class NeuralNetwork(nn.Module):\n",
    "    def __init__(self):\n",
    "        super(NeuralNetwork, self).__init__()\n",
    "        self.hidden1 = nn.Linear(3, 10)\n",
    "        self.relu1 = nn.ReLU()\n",
    "        self.hidden2 = nn.Linear(10, 10)\n",
    "        self.relu2 = nn.ReLU()\n",
    "        self.hidden3 = nn.Linear(10, 10)\n",
    "        self.relu3 = nn.ReLU()\n",
    "        self.output = nn.Linear(10, 3)\n",
    "\n",
    "    def forward(self, x):\n",
    "        x = self.hidden1(x)\n",
    "        x = self.relu1(x)\n",
    "        x = self.hidden2(x)\n",
    "        x = self.relu2(x)\n",
    "        x = self.hidden3(x)\n",
    "        x = self.relu3(x)\n",
    "        x = self.output(x)\n",
    "        return x\n"
   ],
   "metadata": {
    "collapsed": false
   }
  },
  {
   "cell_type": "code",
   "execution_count": null,
   "outputs": [],
   "source": [
    "# 第一个出入口的类\n",
    "class DataObj:\n",
    "    def __init__(self, dic):\n",
    "        self.__dict__.update(dic)\n",
    "        self.time = dic[\"time\"]\n",
    "        self.x = dic[\"C123\"]+dic[\"C12\"]+dic[\"C1\"]\n",
    "        self.o = dic[\"C23\"]+dic[\"C2\"]\n",
    "        self.d = dic[\"C1\"]\n",
    "        self.n = 0\n",
    "        self.a = self.n + dic[\"C123\"]+dic[\"C12\"]+dic[\"C2\"]+dic[\"C23\"]\n",
    "        self.y = dic[\"C123\"]+dic[\"C12\"]+dic[\"C2\"]+dic[\"C23\"]\n",
    "\n",
    "\n",
    "\n",
    "# 第二个出入口的类\n",
    "class DataObj2:\n",
    "    def __init__(self, dic):\n",
    "        self.__dict__.update(dic)\n",
    "        self.time = dic[\"time\"]\n",
    "        self.x = dic[\"C123\"]+dic[\"C12\"]+dic[\"C2\"]+dic[\"C23\"]\n",
    "        self.o = dic[\"C3\"]\n",
    "        self.d = dic[\"C12\"]+dic[\"C2\"]\n",
    "        self.n = 0\n",
    "        self.a = self.n + dic[\"C123\"]+dic[\"C3\"]+dic[\"C23\"]\n",
    "        self.y = dic[\"C123\"]+dic[\"C23\"]+dic[\"C3\"]\n",
    "\n",
    "# 每一个批次的a变化\n",
    "def tn_a_recycle(datatn):\n",
    "    # datatn中包含一个时间段内的不变数据，x、o、d、y、n不变，a随之变化,返回带a的结果\n",
    "    temp = datatn\n",
    "    for i in range(1,len(temp)):\n",
    "        dtpre = temp[i-1]\n",
    "        temp[i].a = dtpre.n+dtpre.x+dtpre.o-dtpre.d-dtpre.y\n",
    "    return temp\n",
    "\n",
    "# 最开始的n初始化计算，之后不变\n",
    "# 按照天的时间进行计算，每天0点的n为0，后续时间的n通过计算得到，data[0]为0点数据\n",
    "\n",
    "\n",
    "minN = 0\n",
    "def generate_n(dataInit):\n",
    "    dataInit[0].n = 0\n",
    "    for i in range(1,len(dataInit)):\n",
    "        dtpre = dataInit[i-1]\n",
    "        dataInit[i].n = dtpre.n + dtpre.x+dtpre.o-dtpre.d-dtpre.y\n",
    "#\n",
    "def generate_n2(dataInit):\n",
    "    # 遍历每一天找出出入都很少的\n",
    "    for\n",
    "    dataInit[0].n = 0\n",
    "    for i in range(1,len(dataInit)):\n",
    "        dtpre = dataInit[i-1]\n",
    "        dataInit[i].n = dtpre.n + dtpre.x+dtpre.o-dtpre.d-dtpre.y"
   ],
   "metadata": {
    "collapsed": false
   }
  },
  {
   "cell_type": "code",
   "execution_count": null,
   "metadata": {
    "collapsed": true
   },
   "outputs": [],
   "source": [
    "import pandas as pd\n",
    "import numpy as np\n",
    "import random\n",
    "import pickle\n",
    "\n",
    "random.seed = 1234\n",
    "init_n = [0,0]"
   ]
  },
  {
   "cell_type": "code",
   "execution_count": null,
   "outputs": [],
   "source": [
    "import torch\n",
    "from torch.utils.data import Dataset, DataLoader\n",
    "\n",
    "# 自定义数据集类\n",
    "class MyDataset(Dataset):\n",
    "    def __init__(self, data):\n",
    "        self.data = data\n",
    "\n",
    "    def __getitem__(self, index):\n",
    "        return self.data[index]\n",
    "\n",
    "    def __len__(self):\n",
    "        return len(self.data)\n",
    "\n",
    "\n",
    "with open(\"res/minute_res.pkl\",\"rb\") as f:\n",
    "    df_res = pickle.load(f)\n",
    "DO_list = [DataObj(x) for x in df_res]\n",
    "DO_list2 = [DataObj2(x) for x in df_res]\n",
    "# os.remove(\"res/modelpkl/\")"
   ],
   "metadata": {
    "collapsed": false
   }
  },
  {
   "cell_type": "code",
   "execution_count": null,
   "outputs": [],
   "source": [
    "import torch.optim as optim\n",
    "for recycle_i in range(20):\n",
    "    print(f\"第{recycle_i}次n生成——————————————————————————————————————\")\n",
    "    # 基于n的数据初始化\n",
    "    DO_list[0].n = init_n[0]\n",
    "    DO_list2[0].n = init_n[1]\n",
    "    DOLL = [DO_list,DO_list2]\n",
    "    for i in range(1,len(DO_list)-1):\n",
    "        _ = DO_list[i-1]\n",
    "        _2 = DO_list[i]\n",
    "        _2.y = _.x+_.o+_.n-_.d\n",
    "        _2.n = _2.x+_2.o+_.n-_2.d-_2.y\n",
    "\n",
    "        _02 = DO_list2[i-1]\n",
    "        _22 = DO_list2[i]\n",
    "        _02.x = _.y\n",
    "        _22.x = _2.y\n",
    "\n",
    "        _22.y = _02.x+_02.o+_02.n-_02.d\n",
    "        _22.n = _22.x+_22.o+_02.n-_22.d-_22.y\n",
    "\n",
    "\n",
    "    datas = [[torch.tensor([data.x,data.o,data.a])/100,torch.tensor([data.y,data.d,data.n])/100] for data in DO_list]\n",
    "    datas2= [[torch.tensor([data.x,data.o,data.a])/100,torch.tensor([data.y,data.d,data.n])/100] for data in DO_list2]\n",
    "    data_collection = [datas,datas2]\n",
    "    #model i\n",
    "    for i in range(len(data_collection)):\n",
    "        data = data_collection[i]\n",
    "        # 创建数据集对象\n",
    "        dataset = MyDataset(datas)\n",
    "        # 定义划分比例\n",
    "        train_ratio = 0.8  # 训练集比例\n",
    "        test_ratio = 0.2  # 测试集比例\n",
    "\n",
    "        # 计算划分的样本数量\n",
    "        train_size = int(len(dataset) * train_ratio)\n",
    "        test_size = len(dataset) - train_size\n",
    "\n",
    "        # 使用random_split()函数划分数据集\n",
    "        train_dataset, test_dataset = torch.utils.data.random_split(dataset, [train_size, test_size])\n",
    "\n",
    "        # 创建数据加载器\n",
    "        train_loader = DataLoader(train_dataset, batch_size=16, shuffle=True)\n",
    "        test_loader = DataLoader(test_dataset, batch_size=16, shuffle=False)\n",
    "        pkl_path = f\"res/modelpkl/model{i}.pkl\"\n",
    "        print(pkl_path)\n",
    "        if os.path.exists(pkl_path):\n",
    "            with open(pkl_path,\"rb\") as f:\n",
    "                model = pickle.load(f)\n",
    "        else:\n",
    "            model = NeuralNetwork()\n",
    "\n",
    "        # 创建优化器和损失函数\n",
    "        learning_rate = 0.001\n",
    "        optimizer = optim.SGD(model.parameters(), lr=learning_rate)\n",
    "        criterion = nn.CrossEntropyLoss()\n",
    "        device = torch.device(\"cuda\" if torch.cuda.is_available() else \"cpu\")\n",
    "        model.to(device)\n",
    "        # 迭代训练\n",
    "        num_epochs = 10\n",
    "        for epoch in range(num_epochs):\n",
    "            for x, y in train_loader:\n",
    "                # 将数据加载到设备（如GPU）上\n",
    "                batch_data = x.to(device)\n",
    "                batch_labels = y.to(device)\n",
    "                # 前向传播\n",
    "                outputs = model(batch_data)\n",
    "                # 计算损失\n",
    "                loss = criterion(outputs, batch_labels)\n",
    "\n",
    "                # 反向传播和参数更新\n",
    "                optimizer.zero_grad()\n",
    "                loss.backward()\n",
    "                optimizer.step()\n",
    "\n",
    "                # 打印训练过程中的损失值\n",
    "                print('Epoch [{}/{}], Batch Loss: {:.4f}'.format(epoch+1, num_epochs, loss.item()))\n",
    "        with open(pkl_path,\"wb\") as f:\n",
    "            pickle.dump(model,f)\n",
    "    for i in range(len(data_collection)-1):\n",
    "        with open(f\"res/modelpkl/model{i}.pkl\",\"rb\") as f:\n",
    "            model = pickle.load(f)\n",
    "        model.eval()\n",
    "        # 进行预测\n",
    "        with torch.no_grad():\n",
    "            data1 = DOLL[i][0]\n",
    "            init_n[i] = model((torch.tensor([data1.x,data1.o,data1.a])/100).to(device))[2]"
   ],
   "metadata": {
    "collapsed": false
   }
  },
  {
   "cell_type": "markdown",
   "source": [
    "# 预测，用n重新初始化"
   ],
   "metadata": {
    "collapsed": false
   }
  },
  {
   "cell_type": "code",
   "execution_count": null,
   "outputs": [],
   "source": [],
   "metadata": {
    "collapsed": false
   }
  },
  {
   "cell_type": "code",
   "execution_count": null,
   "outputs": [],
   "source": [
    "\n"
   ],
   "metadata": {
    "collapsed": false
   }
  }
 ],
 "metadata": {
  "kernelspec": {
   "display_name": "Python 3",
   "language": "python",
   "name": "python3"
  },
  "language_info": {
   "codemirror_mode": {
    "name": "ipython",
    "version": 2
   },
   "file_extension": ".py",
   "mimetype": "text/x-python",
   "name": "python",
   "nbconvert_exporter": "python",
   "pygments_lexer": "ipython2",
   "version": "2.7.6"
  }
 },
 "nbformat": 4,
 "nbformat_minor": 0
}

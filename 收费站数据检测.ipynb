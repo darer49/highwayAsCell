{
 "cells": [
  {
   "cell_type": "code",
   "execution_count": null,
   "metadata": {
    "collapsed": true
   },
   "outputs": [],
   "source": [
    "import json\n",
    "import  pandas as pd\n",
    "base_dir =\"H:\\文档\\门架收费站研究\"\n",
    "\n",
    "with open(f'{base_dir}/20240201整合出入口.json', 'r',encoding='utf-8') as file:\n",
    "    data_text2 = file.read()\n",
    "data_json2 = [json.loads(line) for line in data_text2.strip().split('\\n')]\n",
    "toll_df = pd.DataFrame(data_json2)"
   ]
  },
  {
   "cell_type": "code",
   "execution_count": null,
   "outputs": [],
   "source": [
    "toll_df[\"en_time\"] = toll_df[\"en_mess\"].agg(lambda x: x.split(\"----\")[0])\n",
    "toll_df[\"en_station\"] = toll_df[\"en_mess\"].agg(lambda x: x.split(\"----\")[1])\n",
    "toll_df[\"ex_time\"] = toll_df[\"ex_mess\"].agg(lambda x: x.split(\"----\")[0])\n",
    "toll_df[\"ex_station\"] = toll_df[\"ex_mess\"].agg(lambda x: x.split(\"----\")[1])\n"
   ],
   "metadata": {
    "collapsed": false
   }
  },
  {
   "cell_type": "code",
   "execution_count": null,
   "outputs": [],
   "source": [
    "# .query(\"pass_id=='014401231222400010653620240210163906'\")"
   ],
   "metadata": {
    "collapsed": false
   }
  },
  {
   "cell_type": "code",
   "execution_count": null,
   "outputs": [],
   "source": [
    "with open(f'{base_dir}/20240201整合.json', 'r') as file:\n",
    "    data_text = file.read()\n",
    "data_json = [json.loads(line) for line in data_text.strip().split('\\n')]\n",
    "gantry_df0 = pd.DataFrame(data_json)\n",
    "gantry_df0.columns = [\"pass_id\",\"l\"]\n",
    "gantry_df_list = []\n",
    "for row in gantry_df0.itertuples():\n",
    "    new_row = {\"pass_id\":getattr(row,'pass_id')}\n",
    "    gantry_l = getattr(row,'l').split(\",\")\n",
    "    if len(gantry_l)==3:\n",
    "        new_row[\"l1\"] = gantry_l[0].replace(\"[\",\"\").replace(\"\\\\\",\"\").replace(\"\\\"\",\"\").replace(\"]\",\"\").replace(\"\\\"\",\"\")\n",
    "        new_row[\"l2\"] = gantry_l[1].replace(\"[\",\"\").replace(\"\\\\\",\"\").replace(\"\\\"\",\"\").replace(\"]\",\"\").replace(\"\\\"\",\"\")\n",
    "        new_row[\"l3\"] = gantry_l[2].replace(\"[\",\"\").replace(\"\\\\\",\"\").replace(\"\\\"\",\"\").replace(\"]\",\"\").replace(\"\\\"\",\"\")\n",
    "    elif len(gantry_l)==2:\n",
    "        new_row[\"l1\"] = gantry_l[0].replace(\"[\",\"\").replace(\"\\\\\",\"\").replace(\"\\\"\",\"\").replace(\"]\",\"\").replace(\"\\\"\",\"\")\n",
    "        new_row[\"l2\"] = gantry_l[1].replace(\"[\",\"\").replace(\"\\\\\",\"\").replace(\"\\\"\",\"\").replace(\"]\",\"\").replace(\"\\\"\",\"\")\n",
    "        new_row[\"l3\"] = \"\"\n",
    "    else:\n",
    "        new_row[\"l1\"] = gantry_l[0].replace(\"[\",\"\").replace(\"\\\\\",\"\").replace(\"\\\"\",\"\").replace(\"]\",\"\").replace(\"\\\"\",\"\")\n",
    "        new_row[\"l2\"] = \"\"\n",
    "        new_row[\"l3\"] = \"\"\n",
    "    gantry_df_list.append(new_row)\n",
    "gantry_df = pd.DataFrame(gantry_df_list)"
   ],
   "metadata": {
    "collapsed": false
   }
  },
  {
   "cell_type": "code",
   "execution_count": null,
   "outputs": [],
   "source": [
    "gantry_df.query(\"pass_id=='014401152922320210812120240210170611'\")"
   ],
   "metadata": {
    "collapsed": false
   }
  }
 ],
 "metadata": {
  "kernelspec": {
   "display_name": "Python 3",
   "language": "python",
   "name": "python3"
  },
  "language_info": {
   "codemirror_mode": {
    "name": "ipython",
    "version": 2
   },
   "file_extension": ".py",
   "mimetype": "text/x-python",
   "name": "python",
   "nbconvert_exporter": "python",
   "pygments_lexer": "ipython2",
   "version": "2.7.6"
  }
 },
 "nbformat": 4,
 "nbformat_minor": 0
}
